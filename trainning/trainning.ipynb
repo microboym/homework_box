{
 "metadata": {
  "language_info": {
   "codemirror_mode": {
    "name": "ipython",
    "version": 3
   },
   "file_extension": ".py",
   "mimetype": "text/x-python",
   "name": "python",
   "nbconvert_exporter": "python",
   "pygments_lexer": "ipython3",
   "version": "3.8.9"
  },
  "orig_nbformat": 2,
  "kernelspec": {
   "name": "python389jvsc74a57bd07e85ec9bf098c5427e45e2f632dcd4eeff803b007e1abd287d600879388709c1",
   "display_name": "Python 3.8.9 64-bit"
  },
  "metadata": {
   "interpreter": {
    "hash": "7e85ec9bf098c5427e45e2f632dcd4eeff803b007e1abd287d600879388709c1"
   }
  }
 },
 "nbformat": 4,
 "nbformat_minor": 2,
 "cells": [
  {
   "source": [
    "Setup."
   ],
   "cell_type": "markdown",
   "metadata": {}
  },
  {
   "source": [
    "import tensorflow as tf\n",
    "import numpy as np\n",
    "from tensorflow import keras\n",
    "from tensorflow.keras import layers\n",
    "\n",
    "print(f\"Tensorflow version: {tf.__version__}\")\n",
    "print(f\"Keras version: {keras.__version__}\")"
   ],
   "cell_type": "code",
   "metadata": {},
   "execution_count": 5,
   "outputs": [
    {
     "output_type": "stream",
     "name": "stdout",
     "text": [
      "Tensorflow version: 2.3.0\nKeras version: 2.4.0\n"
     ]
    }
   ]
  },
  {
   "source": [
    "Load the mnist database."
   ],
   "cell_type": "markdown",
   "metadata": {}
  },
  {
   "source": [
    "# Model / data parameters\n",
    "num_classes = 10\n",
    "input_shape = (28, 28, 1)\n",
    "\n",
    "# the data, split between train and test sets\n",
    "image_data = np.load(\"../data/image_data.npy\")\n",
    "image_data = image_data.reshape((-1, 28, 28))\n",
    "label_data = np.load(\"../data/label_data.npy\")\n",
    "print(\"image_data shape\", image_data.shape)\n",
    "\n",
    "row_indices = np.random.permutation(image_data.shape[0])\n",
    "train_index = int(0.8 * image_data.shape[0])\n",
    "\n",
    "# the data, split between train and test sets\n",
    "(x_train, y_train), (x_test, y_test) = keras.datasets.mnist.load_data()\n",
    "\n",
    "x_train = np.append(x_train, image_data[row_indices[:train_index], :], axis=0)\n",
    "y_train = np.append(y_train, label_data[row_indices[:train_index]], axis=0)\n",
    "x_test = np.append(x_test, image_data[row_indices[train_index:], :], axis=0)\n",
    "y_test = np.append(y_test, label_data[row_indices[train_index:]], axis=0)\n",
    "\n",
    "# Shuffle\n",
    "shuffled_indices = np.random.permutation(x_train.shape[0])\n",
    "x_train = x_train[shuffled_indices]\n",
    "y_train = y_train[shuffled_indices]\n",
    "\n",
    "# Scale images to the [0, 1] range\n",
    "x_train = x_train.astype(\"float32\") / 255\n",
    "x_test = x_test.astype(\"float32\") / 255\n",
    "# Make sure images have shape (28, 28, 1)\n",
    "x_train = np.expand_dims(x_train, -1)\n",
    "x_test = np.expand_dims(x_test, -1)\n",
    "print(\"x_train shape:\", x_train.shape)\n",
    "print(x_train.shape[0], \"train samples\")\n",
    "print(x_test.shape[0], \"test samples\")\n",
    "\n",
    "\n",
    "# convert class vectors to binary class matrices\n",
    "y_train = keras.utils.to_categorical(y_train, num_classes)\n",
    "y_test = keras.utils.to_categorical(y_test, num_classes)\n"
   ],
   "cell_type": "code",
   "metadata": {},
   "execution_count": 6,
   "outputs": [
    {
     "output_type": "stream",
     "name": "stdout",
     "text": [
      "image_data shape (5070, 28, 28)\n",
      "x_train shape: (64056, 28, 28, 1)\n",
      "64056 train samples\n",
      "11014 test samples\n"
     ]
    }
   ]
  },
  {
   "source": [
    "Build the model"
   ],
   "cell_type": "markdown",
   "metadata": {}
  },
  {
   "cell_type": "code",
   "execution_count": 7,
   "metadata": {},
   "outputs": [
    {
     "output_type": "stream",
     "name": "stdout",
     "text": [
      "Model: \"sequential_1\"\n_________________________________________________________________\nLayer (type)                 Output Shape              Param #   \n=================================================================\nconv2d_3 (Conv2D)            (None, 26, 26, 32)        320       \n_________________________________________________________________\nmax_pooling2d_2 (MaxPooling2 (None, 13, 13, 32)        0         \n_________________________________________________________________\nconv2d_4 (Conv2D)            (None, 11, 11, 64)        18496     \n_________________________________________________________________\nmax_pooling2d_3 (MaxPooling2 (None, 5, 5, 64)          0         \n_________________________________________________________________\nconv2d_5 (Conv2D)            (None, 3, 3, 64)          36928     \n_________________________________________________________________\nflatten_1 (Flatten)          (None, 576)               0         \n_________________________________________________________________\ndropout_1 (Dropout)          (None, 576)               0         \n_________________________________________________________________\ndense_3 (Dense)              (None, 64)                36928     \n_________________________________________________________________\ndense_4 (Dense)              (None, 128)               8320      \n_________________________________________________________________\ndense_5 (Dense)              (None, 10)                1290      \n=================================================================\nTotal params: 102,282\nTrainable params: 102,282\nNon-trainable params: 0\n_________________________________________________________________\n"
     ]
    }
   ],
   "source": [
    "# model = keras.models.load_model(\"../model.h5\")\n",
    "# Build the model\n",
    "model = keras.Sequential(\n",
    "    [\n",
    "        keras.Input(shape=input_shape),\n",
    "        layers.Conv2D(32, kernel_size=(3, 3), activation=\"relu\"),\n",
    "        layers.MaxPooling2D(pool_size=(2, 2)),\n",
    "        layers.Conv2D(64, kernel_size=(3, 3), activation=\"relu\"),\n",
    "        layers.MaxPooling2D(pool_size=(2, 2)),\n",
    "        layers.Conv2D(64, kernel_size=(3, 3), activation=\"relu\"),\n",
    "        layers.Flatten(),\n",
    "        layers.Dropout(0.5),\n",
    "        layers.Dense(64, activation='relu'),\n",
    "        layers.Dense(128, activation='relu'),\n",
    "        layers.Dense(num_classes, activation=\"softmax\"),\n",
    "    ]\n",
    ")\n",
    "\n",
    "model.summary()"
   ]
  },
  {
   "source": [
    "Train the model."
   ],
   "cell_type": "markdown",
   "metadata": {}
  },
  {
   "cell_type": "code",
   "execution_count": 8,
   "metadata": {},
   "outputs": [
    {
     "output_type": "stream",
     "name": "stdout",
     "text": [
      "Epoch 1/15\n",
      "451/451 [==============================] - 27s 60ms/step - loss: 0.3702 - accuracy: 0.8812 - val_loss: 0.0941 - val_accuracy: 0.9703\n",
      "Epoch 2/15\n",
      "451/451 [==============================] - 27s 60ms/step - loss: 0.1053 - accuracy: 0.9669 - val_loss: 0.0618 - val_accuracy: 0.9814\n",
      "Epoch 3/15\n",
      "451/451 [==============================] - 22s 48ms/step - loss: 0.0811 - accuracy: 0.9743 - val_loss: 0.0574 - val_accuracy: 0.9816\n",
      "Epoch 4/15\n",
      "451/451 [==============================] - 20s 45ms/step - loss: 0.0649 - accuracy: 0.9796 - val_loss: 0.0513 - val_accuracy: 0.9860\n",
      "Epoch 5/15\n",
      "451/451 [==============================] - 21s 46ms/step - loss: 0.0555 - accuracy: 0.9832 - val_loss: 0.0445 - val_accuracy: 0.9880\n",
      "Epoch 6/15\n",
      "451/451 [==============================] - 20s 45ms/step - loss: 0.0485 - accuracy: 0.9845 - val_loss: 0.0456 - val_accuracy: 0.9870\n",
      "Epoch 7/15\n",
      "451/451 [==============================] - 20s 44ms/step - loss: 0.0445 - accuracy: 0.9858 - val_loss: 0.0411 - val_accuracy: 0.9889\n",
      "Epoch 8/15\n",
      "451/451 [==============================] - 20s 45ms/step - loss: 0.0410 - accuracy: 0.9872 - val_loss: 0.0365 - val_accuracy: 0.9894\n",
      "Epoch 9/15\n",
      "451/451 [==============================] - 20s 44ms/step - loss: 0.0379 - accuracy: 0.9883 - val_loss: 0.0403 - val_accuracy: 0.9895\n",
      "Epoch 10/15\n",
      "451/451 [==============================] - 21s 46ms/step - loss: 0.0377 - accuracy: 0.9881 - val_loss: 0.0349 - val_accuracy: 0.9902\n",
      "Epoch 11/15\n",
      "451/451 [==============================] - 21s 46ms/step - loss: 0.0320 - accuracy: 0.9900 - val_loss: 0.0352 - val_accuracy: 0.9902\n",
      "Epoch 12/15\n",
      "451/451 [==============================] - 22s 48ms/step - loss: 0.0308 - accuracy: 0.9903 - val_loss: 0.0379 - val_accuracy: 0.9892\n",
      "Epoch 13/15\n",
      "451/451 [==============================] - 24s 53ms/step - loss: 0.0284 - accuracy: 0.9912 - val_loss: 0.0437 - val_accuracy: 0.9892\n",
      "Epoch 14/15\n",
      "451/451 [==============================] - 22s 48ms/step - loss: 0.0270 - accuracy: 0.9915 - val_loss: 0.0325 - val_accuracy: 0.9911\n",
      "Epoch 15/15\n",
      "451/451 [==============================] - 24s 54ms/step - loss: 0.0254 - accuracy: 0.9919 - val_loss: 0.0331 - val_accuracy: 0.9913\n"
     ]
    },
    {
     "output_type": "execute_result",
     "data": {
      "text/plain": [
       "<tensorflow.python.keras.callbacks.History at 0x14c86a400>"
      ]
     },
     "metadata": {},
     "execution_count": 8
    }
   ],
   "source": [
    "batch_size = 128\n",
    "epochs = 15\n",
    "\n",
    "model.compile(loss=\"categorical_crossentropy\", optimizer=\"adam\", metrics=[\"accuracy\"])\n",
    "\n",
    "tensorboard_callback = tf.keras.callbacks.TensorBoard(log_dir=\"./logs\")\n",
    "model.fit(x_train, y_train, batch_size=batch_size, epochs=epochs, validation_split=0.1, callbacks=[tensorboard_callback])"
   ]
  },
  {
   "cell_type": "code",
   "execution_count": 11,
   "metadata": {},
   "outputs": [
    {
     "output_type": "stream",
     "name": "stdout",
     "text": [
      "345/345 [==============================] - 1s 3ms/step - loss: 0.0257 - accuracy: 0.9923\n",
      "Test loss: 0.025668535381555557\n",
      "Test accuracy: 0.9922825694084167\n"
     ]
    }
   ],
   "source": [
    "score = model.evaluate(x_test, y_test)\n",
    "print(\"Test loss:\", score[0])\n",
    "print(\"Test accuracy:\", score[1])"
   ]
  },
  {
   "cell_type": "code",
   "execution_count": 14,
   "metadata": {},
   "outputs": [
    {
     "output_type": "stream",
     "name": "stdout",
     "text": [
      "Saved to model.h5\n"
     ]
    }
   ],
   "source": [
    "model.save(\"model.h5\")\n",
    "print(\"Saved to model.h5\")"
   ]
  },
  {
   "cell_type": "code",
   "execution_count": null,
   "metadata": {},
   "outputs": [],
   "source": []
  }
 ]
}