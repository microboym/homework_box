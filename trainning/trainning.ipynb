{
 "metadata": {
  "language_info": {
   "codemirror_mode": {
    "name": "ipython",
    "version": 3
   },
   "file_extension": ".py",
   "mimetype": "text/x-python",
   "name": "python",
   "nbconvert_exporter": "python",
   "pygments_lexer": "ipython3",
   "version": "3.9.5"
  },
  "orig_nbformat": 2,
  "kernelspec": {
   "name": "python395jvsc74a57bd0c9a568673d27983c506cbeba4f630ef8a29c03505e83e55c8576111813eff0fc",
   "display_name": "Python 3.9.5 64-bit"
  },
  "metadata": {
   "interpreter": {
    "hash": "c9a568673d27983c506cbeba4f630ef8a29c03505e83e55c8576111813eff0fc"
   }
  }
 },
 "nbformat": 4,
 "nbformat_minor": 2,
 "cells": [
  {
   "source": [
    "Setup."
   ],
   "cell_type": "markdown",
   "metadata": {}
  },
  {
   "source": [
    "import numpy as np\n",
    "import tensorflow as tf\n",
    "from tensorflow import keras\n",
    "from tensorflow.keras import layers\n",
    "\n",
    "print(f\"Tensorflow version: {tf.__version__}\")\n",
    "print(f\"Keras version: {keras.__version__}\")"
   ],
   "cell_type": "code",
   "metadata": {},
   "execution_count": 1,
   "outputs": [
    {
     "output_type": "stream",
     "name": "stdout",
     "text": [
      "Tensorflow version: 2.5.0-rc3\nKeras version: 2.5.0\n"
     ]
    }
   ]
  },
  {
   "source": [
    "Load the mnist database."
   ],
   "cell_type": "markdown",
   "metadata": {}
  },
  {
   "source": [
    "# Model / data parameters\n",
    "num_classes = 10\n",
    "input_shape = (28, 28, 1)\n",
    "\n",
    "# the data, split between train and test sets\n",
    "image_data = np.load(\"../data/dataset-2/image_data.npy\")\n",
    "image_data = image_data.reshape((-1, 28, 28))\n",
    "label_data = np.load(\"../data/dataset-2/label_data.npy\")\n",
    "\n",
    "from sklearn.model_selection import train_test_split\n",
    "x_train, x_test, y_train, y_test = train_test_split(image_data, label_data, test_size=0.3, random_state=42)\n",
    "\n",
    "# Scale images to the [0, 1] range\n",
    "x_train = x_train.astype(\"float32\") / 255\n",
    "x_test = x_test.astype(\"float32\") / 255\n",
    "# Make sure images have shape (28, 28, 1)\n",
    "x_train = np.expand_dims(x_train, -1)\n",
    "x_test = np.expand_dims(x_test, -1)\n",
    "print(\"x_train shape:\", x_train.shape)\n",
    "print(x_train.shape[0], \"train samples\")\n",
    "print(x_test.shape[0], \"test samples\")\n",
    "\n",
    "\n",
    "# convert class vectors to binary class matrices\n",
    "y_train = keras.utils.to_categorical(y_train, num_classes)\n",
    "y_test = keras.utils.to_categorical(y_test, num_classes)\n"
   ],
   "cell_type": "code",
   "metadata": {},
   "execution_count": 4,
   "outputs": [
    {
     "output_type": "stream",
     "name": "stdout",
     "text": [
      "x_train shape: (2268, 28, 28, 1)\n2268 train samples\n972 test samples\n"
     ]
    }
   ]
  },
  {
   "source": [
    "Load the built model."
   ],
   "cell_type": "markdown",
   "metadata": {}
  },
  {
   "cell_type": "code",
   "execution_count": 6,
   "metadata": {},
   "outputs": [],
   "source": [
    "model = keras.models.load_model(\"../model.h5\")"
   ]
  },
  {
   "source": [
    "Train the model."
   ],
   "cell_type": "markdown",
   "metadata": {}
  },
  {
   "cell_type": "code",
   "execution_count": 9,
   "metadata": {},
   "outputs": [
    {
     "output_type": "stream",
     "name": "stdout",
     "text": [
      "Epoch 1/20\n",
      "64/64 [==============================] - 1s 22ms/step - loss: 0.0586 - accuracy: 0.9824 - val_loss: 0.0611 - val_accuracy: 0.9868\n",
      "Epoch 2/20\n",
      "64/64 [==============================] - 1s 23ms/step - loss: 0.0392 - accuracy: 0.9907 - val_loss: 0.0538 - val_accuracy: 0.9912\n",
      "Epoch 3/20\n",
      "64/64 [==============================] - 1s 22ms/step - loss: 0.0360 - accuracy: 0.9902 - val_loss: 0.0559 - val_accuracy: 0.9912\n",
      "Epoch 4/20\n",
      "64/64 [==============================] - 2s 34ms/step - loss: 0.0306 - accuracy: 0.9897 - val_loss: 0.0615 - val_accuracy: 0.9912\n",
      "Epoch 5/20\n",
      "64/64 [==============================] - 2s 35ms/step - loss: 0.0184 - accuracy: 0.9922 - val_loss: 0.0497 - val_accuracy: 0.9912\n",
      "Epoch 6/20\n",
      "64/64 [==============================] - 2s 25ms/step - loss: 0.0243 - accuracy: 0.9936 - val_loss: 0.0522 - val_accuracy: 0.9912\n",
      "Epoch 7/20\n",
      "64/64 [==============================] - 2s 24ms/step - loss: 0.0100 - accuracy: 0.9985 - val_loss: 0.0576 - val_accuracy: 0.9912\n",
      "Epoch 8/20\n",
      "64/64 [==============================] - 1s 21ms/step - loss: 0.0189 - accuracy: 0.9941 - val_loss: 0.0629 - val_accuracy: 0.9912\n",
      "Epoch 9/20\n",
      "64/64 [==============================] - 1s 22ms/step - loss: 0.0179 - accuracy: 0.9976 - val_loss: 0.0587 - val_accuracy: 0.9912\n",
      "Epoch 10/20\n",
      "64/64 [==============================] - 1s 23ms/step - loss: 0.0084 - accuracy: 0.9980 - val_loss: 0.0570 - val_accuracy: 0.9912\n",
      "Epoch 11/20\n",
      "64/64 [==============================] - 1s 22ms/step - loss: 0.0211 - accuracy: 0.9951 - val_loss: 0.0490 - val_accuracy: 0.9956\n",
      "Epoch 12/20\n",
      "64/64 [==============================] - 1s 22ms/step - loss: 0.0186 - accuracy: 0.9946 - val_loss: 0.0591 - val_accuracy: 0.9912\n",
      "Epoch 13/20\n",
      "64/64 [==============================] - 2s 24ms/step - loss: 0.0248 - accuracy: 0.9922 - val_loss: 0.0540 - val_accuracy: 0.9956\n",
      "Epoch 14/20\n",
      "64/64 [==============================] - 2s 25ms/step - loss: 0.0199 - accuracy: 0.9922 - val_loss: 0.0603 - val_accuracy: 0.9912\n",
      "Epoch 15/20\n",
      "64/64 [==============================] - 2s 24ms/step - loss: 0.0063 - accuracy: 0.9985 - val_loss: 0.0605 - val_accuracy: 0.9956\n",
      "Epoch 16/20\n",
      "64/64 [==============================] - 1s 23ms/step - loss: 0.0051 - accuracy: 0.9980 - val_loss: 0.0534 - val_accuracy: 0.9956\n",
      "Epoch 17/20\n",
      "64/64 [==============================] - 2s 24ms/step - loss: 0.0091 - accuracy: 0.9966 - val_loss: 0.0584 - val_accuracy: 0.9912\n",
      "Epoch 18/20\n",
      "64/64 [==============================] - 2s 24ms/step - loss: 0.0135 - accuracy: 0.9971 - val_loss: 0.0488 - val_accuracy: 0.9956\n",
      "Epoch 19/20\n",
      "64/64 [==============================] - 2s 24ms/step - loss: 0.0157 - accuracy: 0.9956 - val_loss: 0.0931 - val_accuracy: 0.9868\n",
      "Epoch 20/20\n",
      "64/64 [==============================] - 1s 23ms/step - loss: 0.0139 - accuracy: 0.9936 - val_loss: 0.0858 - val_accuracy: 0.9912\n"
     ]
    },
    {
     "output_type": "execute_result",
     "data": {
      "text/plain": [
       "<tensorflow.python.keras.callbacks.History at 0x14f87d4bb20>"
      ]
     },
     "metadata": {},
     "execution_count": 9
    }
   ],
   "source": [
    "batch_size = 32\n",
    "epochs = 20\n",
    "\n",
    "# model.compile(loss=\"categorical_crossentropy\", optimizer=\"adam\", metrics=[\"accuracy\"])\n",
    "\n",
    "model.fit(x_train, y_train, batch_size=batch_size, epochs=epochs, validation_split=0.1)"
   ]
  },
  {
   "cell_type": "code",
   "execution_count": 10,
   "metadata": {},
   "outputs": [
    {
     "output_type": "stream",
     "name": "stdout",
     "text": [
      "31/31 [==============================] - 0s 6ms/step - loss: 0.0935 - accuracy: 0.9805\n",
      "Test loss: 0.09354384243488312\n",
      "Test accuracy: 0.9804526567459106\n"
     ]
    }
   ],
   "source": [
    "score = model.evaluate(x_test, y_test)\n",
    "print(\"Test loss:\", score[0])\n",
    "print(\"Test accuracy:\", score[1])"
   ]
  },
  {
   "cell_type": "code",
   "execution_count": null,
   "metadata": {},
   "outputs": [],
   "source": [
    "model.save(\"model.h5\")\n",
    "print(\"Saved to model.h5\")"
   ]
  }
 ]
}